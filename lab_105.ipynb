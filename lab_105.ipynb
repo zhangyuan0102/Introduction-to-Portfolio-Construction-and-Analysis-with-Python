{
 "cells": [
  {
   "cell_type": "markdown",
   "metadata": {},
   "source": [
    "# Deviations from Normality\n",
    "\n",
    "_(plus python functions with default parameters plus a quick example of recursive functions)_\n",
    "\n",
    "Today, we'll develop the code for skewness 偏度and kurtosis峰度 even though these are already available in the `scipy.stats` module, and then we'll apply them to hedge fund index returns.\n",
    "\n",
    "We'll also look at using `scipy.stats` module to apply the _Jarque-Bera_ test for normality, and apply them to different return series.\n",
    "\n",
    "First, add the following code to our `edhec_risk_kit.py`\n",
    "\n",
    "```python\n",
    "def get_hfi_returns():\n",
    "    \"\"\"\n",
    "    Load and format the EDHEC Hedge Fund Index Returns\n",
    "    \"\"\"\n",
    "    hfi = pd.read_csv(\"data/edhec-hedgefundindices.csv\",\n",
    "                      header=0, index_col=0, parse_dates=True)\n",
    "    hfi = hfi/100\n",
    "    hfi.index = hfi.index.to_period('M')\n",
    "    return hfi\n",
    "```\n"
   ]
  },
  {
   "cell_type": "code",
   "execution_count": 13,
   "metadata": {},
   "outputs": [],
   "source": [
    "def get_hfi_returns():\n",
    "    \"\"\"\n",
    "    Load and format the EDHEC Hedge Fund Index Returns\n",
    "    \"\"\"\n",
    "    hfi = pd.read_csv(\"data/edhec-hedgefundindices.csv\",\n",
    "                      header=0, index_col=0, parse_dates=True)\n",
    "    hfi = hfi/100\n",
    "    hfi.index = hfi.index.to_period('M')\n",
    "    return hfi"
   ]
  },
  {
   "cell_type": "code",
   "execution_count": 14,
   "metadata": {
    "scrolled": true
   },
   "outputs": [
    {
     "name": "stdout",
     "output_type": "stream",
     "text": [
      "The autoreload extension is already loaded. To reload it, use:\n",
      "  %reload_ext autoreload\n"
     ]
    },
    {
     "data": {
      "text/html": [
       "<div>\n",
       "<style scoped>\n",
       "    .dataframe tbody tr th:only-of-type {\n",
       "        vertical-align: middle;\n",
       "    }\n",
       "\n",
       "    .dataframe tbody tr th {\n",
       "        vertical-align: top;\n",
       "    }\n",
       "\n",
       "    .dataframe thead th {\n",
       "        text-align: right;\n",
       "    }\n",
       "</style>\n",
       "<table border=\"1\" class=\"dataframe\">\n",
       "  <thead>\n",
       "    <tr style=\"text-align: right;\">\n",
       "      <th></th>\n",
       "      <th>Convertible Arbitrage</th>\n",
       "      <th>CTA Global</th>\n",
       "      <th>Distressed Securities</th>\n",
       "      <th>Emerging Markets</th>\n",
       "      <th>Equity Market Neutral</th>\n",
       "      <th>Event Driven</th>\n",
       "      <th>Fixed Income Arbitrage</th>\n",
       "      <th>Global Macro</th>\n",
       "      <th>Long/Short Equity</th>\n",
       "      <th>Merger Arbitrage</th>\n",
       "      <th>Relative Value</th>\n",
       "      <th>Short Selling</th>\n",
       "      <th>Funds Of Funds</th>\n",
       "    </tr>\n",
       "    <tr>\n",
       "      <th>date</th>\n",
       "      <th></th>\n",
       "      <th></th>\n",
       "      <th></th>\n",
       "      <th></th>\n",
       "      <th></th>\n",
       "      <th></th>\n",
       "      <th></th>\n",
       "      <th></th>\n",
       "      <th></th>\n",
       "      <th></th>\n",
       "      <th></th>\n",
       "      <th></th>\n",
       "      <th></th>\n",
       "    </tr>\n",
       "  </thead>\n",
       "  <tbody>\n",
       "    <tr>\n",
       "      <th>1997-01</th>\n",
       "      <td>0.0119</td>\n",
       "      <td>0.0393</td>\n",
       "      <td>0.0178</td>\n",
       "      <td>0.0791</td>\n",
       "      <td>0.0189</td>\n",
       "      <td>0.0213</td>\n",
       "      <td>0.0191</td>\n",
       "      <td>0.0573</td>\n",
       "      <td>0.0281</td>\n",
       "      <td>0.0150</td>\n",
       "      <td>0.0180</td>\n",
       "      <td>-0.0166</td>\n",
       "      <td>0.0317</td>\n",
       "    </tr>\n",
       "    <tr>\n",
       "      <th>1997-02</th>\n",
       "      <td>0.0123</td>\n",
       "      <td>0.0298</td>\n",
       "      <td>0.0122</td>\n",
       "      <td>0.0525</td>\n",
       "      <td>0.0101</td>\n",
       "      <td>0.0084</td>\n",
       "      <td>0.0122</td>\n",
       "      <td>0.0175</td>\n",
       "      <td>-0.0006</td>\n",
       "      <td>0.0034</td>\n",
       "      <td>0.0118</td>\n",
       "      <td>0.0426</td>\n",
       "      <td>0.0106</td>\n",
       "    </tr>\n",
       "    <tr>\n",
       "      <th>1997-03</th>\n",
       "      <td>0.0078</td>\n",
       "      <td>-0.0021</td>\n",
       "      <td>-0.0012</td>\n",
       "      <td>-0.0120</td>\n",
       "      <td>0.0016</td>\n",
       "      <td>-0.0023</td>\n",
       "      <td>0.0109</td>\n",
       "      <td>-0.0119</td>\n",
       "      <td>-0.0084</td>\n",
       "      <td>0.0060</td>\n",
       "      <td>0.0010</td>\n",
       "      <td>0.0778</td>\n",
       "      <td>-0.0077</td>\n",
       "    </tr>\n",
       "    <tr>\n",
       "      <th>1997-04</th>\n",
       "      <td>0.0086</td>\n",
       "      <td>-0.0170</td>\n",
       "      <td>0.0030</td>\n",
       "      <td>0.0119</td>\n",
       "      <td>0.0119</td>\n",
       "      <td>-0.0005</td>\n",
       "      <td>0.0130</td>\n",
       "      <td>0.0172</td>\n",
       "      <td>0.0084</td>\n",
       "      <td>-0.0001</td>\n",
       "      <td>0.0122</td>\n",
       "      <td>-0.0129</td>\n",
       "      <td>0.0009</td>\n",
       "    </tr>\n",
       "    <tr>\n",
       "      <th>1997-05</th>\n",
       "      <td>0.0156</td>\n",
       "      <td>-0.0015</td>\n",
       "      <td>0.0233</td>\n",
       "      <td>0.0315</td>\n",
       "      <td>0.0189</td>\n",
       "      <td>0.0346</td>\n",
       "      <td>0.0118</td>\n",
       "      <td>0.0108</td>\n",
       "      <td>0.0394</td>\n",
       "      <td>0.0197</td>\n",
       "      <td>0.0173</td>\n",
       "      <td>-0.0737</td>\n",
       "      <td>0.0275</td>\n",
       "    </tr>\n",
       "  </tbody>\n",
       "</table>\n",
       "</div>"
      ],
      "text/plain": [
       "         Convertible Arbitrage  CTA Global  Distressed Securities  \\\n",
       "date                                                                \n",
       "1997-01                 0.0119      0.0393                 0.0178   \n",
       "1997-02                 0.0123      0.0298                 0.0122   \n",
       "1997-03                 0.0078     -0.0021                -0.0012   \n",
       "1997-04                 0.0086     -0.0170                 0.0030   \n",
       "1997-05                 0.0156     -0.0015                 0.0233   \n",
       "\n",
       "         Emerging Markets  Equity Market Neutral  Event Driven  \\\n",
       "date                                                             \n",
       "1997-01            0.0791                 0.0189        0.0213   \n",
       "1997-02            0.0525                 0.0101        0.0084   \n",
       "1997-03           -0.0120                 0.0016       -0.0023   \n",
       "1997-04            0.0119                 0.0119       -0.0005   \n",
       "1997-05            0.0315                 0.0189        0.0346   \n",
       "\n",
       "         Fixed Income Arbitrage  Global Macro  Long/Short Equity  \\\n",
       "date                                                               \n",
       "1997-01                  0.0191        0.0573             0.0281   \n",
       "1997-02                  0.0122        0.0175            -0.0006   \n",
       "1997-03                  0.0109       -0.0119            -0.0084   \n",
       "1997-04                  0.0130        0.0172             0.0084   \n",
       "1997-05                  0.0118        0.0108             0.0394   \n",
       "\n",
       "         Merger Arbitrage  Relative Value  Short Selling  Funds Of Funds  \n",
       "date                                                                      \n",
       "1997-01            0.0150          0.0180        -0.0166          0.0317  \n",
       "1997-02            0.0034          0.0118         0.0426          0.0106  \n",
       "1997-03            0.0060          0.0010         0.0778         -0.0077  \n",
       "1997-04           -0.0001          0.0122        -0.0129          0.0009  \n",
       "1997-05            0.0197          0.0173        -0.0737          0.0275  "
      ]
     },
     "execution_count": 14,
     "metadata": {},
     "output_type": "execute_result"
    }
   ],
   "source": [
    "%load_ext autoreload\n",
    "%autoreload 2\n",
    "\n",
    "import pandas as pd\n",
    "import edhec_risk_kit_105 as erk\n",
    "hfi = erk.get_hfi_returns()\n",
    "hfi.head()"
   ]
  },
  {
   "cell_type": "code",
   "execution_count": 15,
   "metadata": {},
   "outputs": [
    {
     "data": {
      "text/html": [
       "<div>\n",
       "<style scoped>\n",
       "    .dataframe tbody tr th:only-of-type {\n",
       "        vertical-align: middle;\n",
       "    }\n",
       "\n",
       "    .dataframe tbody tr th {\n",
       "        vertical-align: top;\n",
       "    }\n",
       "\n",
       "    .dataframe thead th {\n",
       "        text-align: right;\n",
       "    }\n",
       "</style>\n",
       "<table border=\"1\" class=\"dataframe\">\n",
       "  <thead>\n",
       "    <tr style=\"text-align: right;\">\n",
       "      <th></th>\n",
       "      <th>Convertible Arbitrage</th>\n",
       "      <th>CTA Global</th>\n",
       "      <th>Distressed Securities</th>\n",
       "      <th>Emerging Markets</th>\n",
       "      <th>Equity Market Neutral</th>\n",
       "      <th>Event Driven</th>\n",
       "      <th>Fixed Income Arbitrage</th>\n",
       "      <th>Global Macro</th>\n",
       "      <th>Long/Short Equity</th>\n",
       "      <th>Merger Arbitrage</th>\n",
       "      <th>Relative Value</th>\n",
       "      <th>Short Selling</th>\n",
       "      <th>Funds Of Funds</th>\n",
       "    </tr>\n",
       "    <tr>\n",
       "      <th>date</th>\n",
       "      <th></th>\n",
       "      <th></th>\n",
       "      <th></th>\n",
       "      <th></th>\n",
       "      <th></th>\n",
       "      <th></th>\n",
       "      <th></th>\n",
       "      <th></th>\n",
       "      <th></th>\n",
       "      <th></th>\n",
       "      <th></th>\n",
       "      <th></th>\n",
       "      <th></th>\n",
       "    </tr>\n",
       "  </thead>\n",
       "  <tbody>\n",
       "    <tr>\n",
       "      <th>2009-01</th>\n",
       "      <td>0.0491</td>\n",
       "      <td>-0.0016</td>\n",
       "      <td>0.0082</td>\n",
       "      <td>-0.0112</td>\n",
       "      <td>0.0079</td>\n",
       "      <td>0.0132</td>\n",
       "      <td>0.0112</td>\n",
       "      <td>0.0029</td>\n",
       "      <td>-0.0017</td>\n",
       "      <td>0.0056</td>\n",
       "      <td>0.0100</td>\n",
       "      <td>0.0282</td>\n",
       "      <td>0.0060</td>\n",
       "    </tr>\n",
       "    <tr>\n",
       "      <th>2009-02</th>\n",
       "      <td>0.0164</td>\n",
       "      <td>-0.0031</td>\n",
       "      <td>-0.0122</td>\n",
       "      <td>-0.0133</td>\n",
       "      <td>-0.0046</td>\n",
       "      <td>-0.0091</td>\n",
       "      <td>0.0065</td>\n",
       "      <td>-0.0055</td>\n",
       "      <td>-0.0161</td>\n",
       "      <td>0.0006</td>\n",
       "      <td>-0.0016</td>\n",
       "      <td>0.0328</td>\n",
       "      <td>-0.0037</td>\n",
       "    </tr>\n",
       "    <tr>\n",
       "      <th>2009-03</th>\n",
       "      <td>0.0235</td>\n",
       "      <td>-0.0180</td>\n",
       "      <td>0.0022</td>\n",
       "      <td>0.0350</td>\n",
       "      <td>0.0021</td>\n",
       "      <td>0.0117</td>\n",
       "      <td>0.0057</td>\n",
       "      <td>0.0048</td>\n",
       "      <td>0.0188</td>\n",
       "      <td>0.0125</td>\n",
       "      <td>0.0100</td>\n",
       "      <td>-0.0462</td>\n",
       "      <td>0.0008</td>\n",
       "    </tr>\n",
       "    <tr>\n",
       "      <th>2009-04</th>\n",
       "      <td>0.0500</td>\n",
       "      <td>-0.0140</td>\n",
       "      <td>0.0387</td>\n",
       "      <td>0.0663</td>\n",
       "      <td>-0.0012</td>\n",
       "      <td>0.0337</td>\n",
       "      <td>0.0221</td>\n",
       "      <td>0.0127</td>\n",
       "      <td>0.0375</td>\n",
       "      <td>0.0081</td>\n",
       "      <td>0.0342</td>\n",
       "      <td>-0.0820</td>\n",
       "      <td>0.0092</td>\n",
       "    </tr>\n",
       "    <tr>\n",
       "      <th>2009-05</th>\n",
       "      <td>0.0578</td>\n",
       "      <td>0.0213</td>\n",
       "      <td>0.0504</td>\n",
       "      <td>0.0884</td>\n",
       "      <td>0.0146</td>\n",
       "      <td>0.0442</td>\n",
       "      <td>0.0365</td>\n",
       "      <td>0.0348</td>\n",
       "      <td>0.0516</td>\n",
       "      <td>0.0107</td>\n",
       "      <td>0.0392</td>\n",
       "      <td>0.0008</td>\n",
       "      <td>0.0312</td>\n",
       "    </tr>\n",
       "  </tbody>\n",
       "</table>\n",
       "</div>"
      ],
      "text/plain": [
       "         Convertible Arbitrage  CTA Global  Distressed Securities  \\\n",
       "date                                                                \n",
       "2009-01                 0.0491     -0.0016                 0.0082   \n",
       "2009-02                 0.0164     -0.0031                -0.0122   \n",
       "2009-03                 0.0235     -0.0180                 0.0022   \n",
       "2009-04                 0.0500     -0.0140                 0.0387   \n",
       "2009-05                 0.0578      0.0213                 0.0504   \n",
       "\n",
       "         Emerging Markets  Equity Market Neutral  Event Driven  \\\n",
       "date                                                             \n",
       "2009-01           -0.0112                 0.0079        0.0132   \n",
       "2009-02           -0.0133                -0.0046       -0.0091   \n",
       "2009-03            0.0350                 0.0021        0.0117   \n",
       "2009-04            0.0663                -0.0012        0.0337   \n",
       "2009-05            0.0884                 0.0146        0.0442   \n",
       "\n",
       "         Fixed Income Arbitrage  Global Macro  Long/Short Equity  \\\n",
       "date                                                               \n",
       "2009-01                  0.0112        0.0029            -0.0017   \n",
       "2009-02                  0.0065       -0.0055            -0.0161   \n",
       "2009-03                  0.0057        0.0048             0.0188   \n",
       "2009-04                  0.0221        0.0127             0.0375   \n",
       "2009-05                  0.0365        0.0348             0.0516   \n",
       "\n",
       "         Merger Arbitrage  Relative Value  Short Selling  Funds Of Funds  \n",
       "date                                                                      \n",
       "2009-01            0.0056          0.0100         0.0282          0.0060  \n",
       "2009-02            0.0006         -0.0016         0.0328         -0.0037  \n",
       "2009-03            0.0125          0.0100        -0.0462          0.0008  \n",
       "2009-04            0.0081          0.0342        -0.0820          0.0092  \n",
       "2009-05            0.0107          0.0392         0.0008          0.0312  "
      ]
     },
     "execution_count": 15,
     "metadata": {},
     "output_type": "execute_result"
    }
   ],
   "source": [
    "hfi = hfi['2009-01':'2018-12']\n",
    "hfi.head()"
   ]
  },
  {
   "cell_type": "code",
   "execution_count": 16,
   "metadata": {},
   "outputs": [],
   "source": [
    "import pandas as pd\n",
    "\n",
    "def semideviation(data):\n",
    "    mean_return = data.mean()\n",
    "    negative_deviation = data[data < mean_return]\n",
    "    squared_deviation = (negative_deviation - mean_return) ** 2\n",
    "    semivariance = squared_deviation.mean()\n",
    "    return semivariance\n",
    "\n",
    "semidev = hfi.aggregate(semideviation)"
   ]
  },
  {
   "cell_type": "code",
   "execution_count": 17,
   "metadata": {},
   "outputs": [
    {
     "data": {
      "text/plain": [
       "Fixed Income Arbitrage    0.000042\n",
       "Equity Market Neutral     0.000052\n",
       "Merger Arbitrage          0.000058\n",
       "Relative Value            0.000090\n",
       "Global Macro              0.000094\n",
       "Convertible Arbitrage     0.000108\n",
       "Funds Of Funds            0.000150\n",
       "Event Driven              0.000251\n",
       "Distressed Securities     0.000279\n",
       "Long/Short Equity         0.000343\n",
       "CTA Global                0.000369\n",
       "Emerging Markets          0.000557\n",
       "Short Selling             0.000974\n",
       "dtype: float64"
      ]
     },
     "execution_count": 17,
     "metadata": {},
     "output_type": "execute_result"
    }
   ],
   "source": [
    "semidev.sort_values()"
   ]
  },
  {
   "cell_type": "markdown",
   "metadata": {},
   "source": [
    "## Skewness\n",
    "\n",
    "Intuitively, a negative skew means that you get more negative returns than you would have expected if the returns were distributed like the normal distribution.\n",
    "\n",
    "Another way of thinking about it is if that returns are normally distributed, the mean and the median would be very close.\n",
    "\n",
    "However, if they are negatively skewed, the expected value i.e. the mean is less than the median. If they are positively skewed, the expected value (again, the mean) is greater than the median."
   ]
  },
  {
   "cell_type": "code",
   "execution_count": 9,
   "metadata": {},
   "outputs": [
    {
     "data": {
      "text/html": [
       "<div>\n",
       "<style scoped>\n",
       "    .dataframe tbody tr th:only-of-type {\n",
       "        vertical-align: middle;\n",
       "    }\n",
       "\n",
       "    .dataframe tbody tr th {\n",
       "        vertical-align: top;\n",
       "    }\n",
       "\n",
       "    .dataframe thead th {\n",
       "        text-align: right;\n",
       "    }\n",
       "</style>\n",
       "<table border=\"1\" class=\"dataframe\">\n",
       "  <thead>\n",
       "    <tr style=\"text-align: right;\">\n",
       "      <th></th>\n",
       "      <th>0</th>\n",
       "      <th>1</th>\n",
       "      <th>2</th>\n",
       "    </tr>\n",
       "  </thead>\n",
       "  <tbody>\n",
       "    <tr>\n",
       "      <th>Convertible Arbitrage</th>\n",
       "      <td>0.006623</td>\n",
       "      <td>0.0045</td>\n",
       "      <td>True</td>\n",
       "    </tr>\n",
       "    <tr>\n",
       "      <th>CTA Global</th>\n",
       "      <td>0.000497</td>\n",
       "      <td>-0.0003</td>\n",
       "      <td>True</td>\n",
       "    </tr>\n",
       "    <tr>\n",
       "      <th>Distressed Securities</th>\n",
       "      <td>0.006559</td>\n",
       "      <td>0.0082</td>\n",
       "      <td>False</td>\n",
       "    </tr>\n",
       "    <tr>\n",
       "      <th>Emerging Markets</th>\n",
       "      <td>0.005205</td>\n",
       "      <td>0.0061</td>\n",
       "      <td>False</td>\n",
       "    </tr>\n",
       "    <tr>\n",
       "      <th>Equity Market Neutral</th>\n",
       "      <td>0.002556</td>\n",
       "      <td>0.0032</td>\n",
       "      <td>False</td>\n",
       "    </tr>\n",
       "    <tr>\n",
       "      <th>Event Driven</th>\n",
       "      <td>0.005595</td>\n",
       "      <td>0.0070</td>\n",
       "      <td>False</td>\n",
       "    </tr>\n",
       "    <tr>\n",
       "      <th>Fixed Income Arbitrage</th>\n",
       "      <td>0.005478</td>\n",
       "      <td>0.0050</td>\n",
       "      <td>True</td>\n",
       "    </tr>\n",
       "    <tr>\n",
       "      <th>Global Macro</th>\n",
       "      <td>0.002676</td>\n",
       "      <td>0.0020</td>\n",
       "      <td>True</td>\n",
       "    </tr>\n",
       "    <tr>\n",
       "      <th>Long/Short Equity</th>\n",
       "      <td>0.005209</td>\n",
       "      <td>0.0064</td>\n",
       "      <td>False</td>\n",
       "    </tr>\n",
       "    <tr>\n",
       "      <th>Merger Arbitrage</th>\n",
       "      <td>0.003716</td>\n",
       "      <td>0.0047</td>\n",
       "      <td>False</td>\n",
       "    </tr>\n",
       "    <tr>\n",
       "      <th>Relative Value</th>\n",
       "      <td>0.005452</td>\n",
       "      <td>0.0055</td>\n",
       "      <td>False</td>\n",
       "    </tr>\n",
       "    <tr>\n",
       "      <th>Short Selling</th>\n",
       "      <td>-0.010350</td>\n",
       "      <td>-0.0144</td>\n",
       "      <td>True</td>\n",
       "    </tr>\n",
       "    <tr>\n",
       "      <th>Funds Of Funds</th>\n",
       "      <td>0.002470</td>\n",
       "      <td>0.0039</td>\n",
       "      <td>False</td>\n",
       "    </tr>\n",
       "  </tbody>\n",
       "</table>\n",
       "</div>"
      ],
      "text/plain": [
       "                               0       1      2\n",
       "Convertible Arbitrage   0.006623  0.0045   True\n",
       "CTA Global              0.000497 -0.0003   True\n",
       "Distressed Securities   0.006559  0.0082  False\n",
       "Emerging Markets        0.005205  0.0061  False\n",
       "Equity Market Neutral   0.002556  0.0032  False\n",
       "Event Driven            0.005595  0.0070  False\n",
       "Fixed Income Arbitrage  0.005478  0.0050   True\n",
       "Global Macro            0.002676  0.0020   True\n",
       "Long/Short Equity       0.005209  0.0064  False\n",
       "Merger Arbitrage        0.003716  0.0047  False\n",
       "Relative Value          0.005452  0.0055  False\n",
       "Short Selling          -0.010350 -0.0144   True\n",
       "Funds Of Funds          0.002470  0.0039  False"
      ]
     },
     "execution_count": 9,
     "metadata": {},
     "output_type": "execute_result"
    }
   ],
   "source": [
    "pd.concat([hfi.mean(), hfi.median(), hfi.mean()>hfi.median()], axis=1)"
   ]
  },
  {
   "cell_type": "markdown",
   "metadata": {},
   "source": [
    "Now, let's develop the code to compute the skewness of a series of numbers.\n",
    "\n",
    "Recall that the skewness is given by:\n",
    "\n",
    "$$ S(R) = \\frac{E[ (R-E(R))^3 ]}{\\sigma_R^3} $$\n"
   ]
  },
  {
   "cell_type": "code",
   "execution_count": 10,
   "metadata": {},
   "outputs": [],
   "source": [
    "def skewness(r):\n",
    "    \"\"\"\n",
    "    Alternative to scipy.stats.skew()\n",
    "    Computes the skewness of the supplied Series or DataFrame\n",
    "    Returns a float or a Series\n",
    "    \"\"\"\n",
    "    demeaned_r = r - r.mean()\n",
    "    # use the population standard deviation, so set dof=0\n",
    "    sigma_r = r.std(ddof=0)\n",
    "    exp = (demeaned_r**3).mean()\n",
    "    return exp/sigma_r**3\n"
   ]
  },
  {
   "cell_type": "code",
   "execution_count": 5,
   "metadata": {
    "scrolled": true
   },
   "outputs": [
    {
     "data": {
      "text/plain": [
       "Fixed Income Arbitrage   -3.940320\n",
       "Convertible Arbitrage    -2.639592\n",
       "Equity Market Neutral    -2.124435\n",
       "Relative Value           -1.815470\n",
       "Event Driven             -1.409154\n",
       "Merger Arbitrage         -1.320083\n",
       "Distressed Securities    -1.300842\n",
       "Emerging Markets         -1.167067\n",
       "Long/Short Equity        -0.390227\n",
       "Funds Of Funds           -0.361783\n",
       "CTA Global                0.173699\n",
       "Short Selling             0.767975\n",
       "Global Macro              0.982922\n",
       "dtype: float64"
      ]
     },
     "execution_count": 5,
     "metadata": {},
     "output_type": "execute_result"
    }
   ],
   "source": [
    "skewness(hfi).sort_values()"
   ]
  },
  {
   "cell_type": "markdown",
   "metadata": {},
   "source": [
    "Just to see if we get the same answer, let's use the skewness function that is built into `scipy.stats`"
   ]
  },
  {
   "cell_type": "code",
   "execution_count": 7,
   "metadata": {},
   "outputs": [
    {
     "data": {
      "text/plain": [
       "array([-2.63959223,  0.17369864, -1.30084204, -1.16706749, -2.12443538,\n",
       "       -1.40915356, -3.94032029,  0.98292188, -0.39022677, -1.32008333,\n",
       "       -1.81546975,  0.76797484, -0.36178308])"
      ]
     },
     "execution_count": 7,
     "metadata": {},
     "output_type": "execute_result"
    }
   ],
   "source": [
    "import scipy.stats\n",
    "scipy.stats.skew(hfi)"
   ]
  },
  {
   "cell_type": "markdown",
   "metadata": {},
   "source": [
    "So, let's add that to our `edhec_risk_kit.py`.\n",
    "\n",
    "Finally, let's look at the skewness that you would expect from a truly random sequence of returns. Let's use the random normal generator from numpy and generate the same number of returns as we have for the hedge fund data."
   ]
  },
  {
   "cell_type": "code",
   "execution_count": 8,
   "metadata": {},
   "outputs": [
    {
     "data": {
      "text/plain": [
       "(263, 13)"
      ]
     },
     "execution_count": 8,
     "metadata": {},
     "output_type": "execute_result"
    }
   ],
   "source": [
    "hfi.shape"
   ]
  },
  {
   "cell_type": "code",
   "execution_count": 9,
   "metadata": {},
   "outputs": [],
   "source": [
    "import numpy as np\n",
    "normal_rets = np.random.normal(0, 0.15, (263, 1))"
   ]
  },
  {
   "cell_type": "code",
   "execution_count": 10,
   "metadata": {},
   "outputs": [
    {
     "data": {
      "text/plain": [
       "(0.004830172281721791, 0.153322923757805)"
      ]
     },
     "execution_count": 10,
     "metadata": {},
     "output_type": "execute_result"
    }
   ],
   "source": [
    "normal_rets.mean(), normal_rets.std()"
   ]
  },
  {
   "cell_type": "code",
   "execution_count": 11,
   "metadata": {},
   "outputs": [
    {
     "data": {
      "text/plain": [
       "-0.04494358802147892"
      ]
     },
     "execution_count": 11,
     "metadata": {},
     "output_type": "execute_result"
    }
   ],
   "source": [
    "erk.skewness(normal_rets)"
   ]
  },
  {
   "cell_type": "markdown",
   "metadata": {},
   "source": [
    "# Kurtosis\n",
    "\n",
    "Intuitively, the kurtosis measures the \"fatness\" of the tails of the distribution. The normal distribution has a kurtosis of 3 and so if the kurtosis of your returns is less than 3 then it tends to have thinner tails, and if the kurtosis is greater than 3 then the distribution has fatter tails.\n",
    "\n",
    "Kurtosis is given by:\n",
    "\n",
    "$$ K(R) = \\frac{E[ (R-E(R))^4 ]}{\\sigma_R^4} $$\n",
    "\n",
    "This is very similar to the skewness, so we can just copy and paste it and then edit it to compute the 4th rather than the 3rd power (as was the case for skewness).\n"
   ]
  },
  {
   "cell_type": "code",
   "execution_count": 12,
   "metadata": {},
   "outputs": [
    {
     "data": {
      "text/plain": [
       "Convertible Arbitrage     23.280834\n",
       "CTA Global                 2.952960\n",
       "Distressed Securities      7.889983\n",
       "Emerging Markets           9.250788\n",
       "Equity Market Neutral     17.218555\n",
       "Event Driven               8.035828\n",
       "Fixed Income Arbitrage    29.842199\n",
       "Global Macro               5.741679\n",
       "Long/Short Equity          4.523893\n",
       "Merger Arbitrage           8.738950\n",
       "Relative Value            12.121208\n",
       "Short Selling              6.117772\n",
       "Funds Of Funds             7.070153\n",
       "dtype: float64"
      ]
     },
     "execution_count": 12,
     "metadata": {},
     "output_type": "execute_result"
    }
   ],
   "source": [
    "erk.kurtosis(hfi)"
   ]
  },
  {
   "cell_type": "markdown",
   "metadata": {},
   "source": [
    "Let's compare it with `scipy.stats` ..."
   ]
  },
  {
   "cell_type": "code",
   "execution_count": 13,
   "metadata": {},
   "outputs": [
    {
     "data": {
      "text/plain": [
       "array([20.28083446, -0.04703963,  4.88998336,  6.25078841, 14.21855526,\n",
       "        5.03582817, 26.84219928,  2.74167945,  1.52389258,  5.73894979,\n",
       "        9.12120787,  3.11777175,  4.07015278])"
      ]
     },
     "execution_count": 13,
     "metadata": {},
     "output_type": "execute_result"
    }
   ],
   "source": [
    "scipy.stats.kurtosis(hfi)"
   ]
  },
  {
   "cell_type": "markdown",
   "metadata": {},
   "source": [
    "Note that these numbers are all lower by 3 from the number we have computed. That's because, as we said above, the expected kurtosis of a normally distributed series of numbers is 3, and `scipy.stats` is returning the _Excess Kurtosis_. We can see this by applying it on the random normal numbers we generated:"
   ]
  },
  {
   "cell_type": "code",
   "execution_count": 14,
   "metadata": {},
   "outputs": [
    {
     "data": {
      "text/plain": [
       "array([-0.15149084])"
      ]
     },
     "execution_count": 14,
     "metadata": {},
     "output_type": "execute_result"
    }
   ],
   "source": [
    "scipy.stats.kurtosis(normal_rets)"
   ]
  },
  {
   "cell_type": "code",
   "execution_count": 15,
   "metadata": {},
   "outputs": [
    {
     "data": {
      "text/plain": [
       "2.8485091632056974"
      ]
     },
     "execution_count": 15,
     "metadata": {},
     "output_type": "execute_result"
    }
   ],
   "source": [
    "erk.kurtosis(normal_rets)"
   ]
  },
  {
   "cell_type": "markdown",
   "metadata": {},
   "source": [
    "## Running the Jarque-Bera Test for Normality\n",
    "\n",
    "The `scipy.stats` module contains a function that runs the _Jarque-Bera_ test on a sequence of numbers. Let's apply that to the normally generated returns:"
   ]
  },
  {
   "cell_type": "code",
   "execution_count": 17,
   "metadata": {},
   "outputs": [
    {
     "data": {
      "text/plain": [
       "(0.34002807612703767, 0.8436529732592287)"
      ]
     },
     "execution_count": 17,
     "metadata": {},
     "output_type": "execute_result"
    }
   ],
   "source": [
    "scipy.stats.jarque_bera(normal_rets)"
   ]
  },
  {
   "cell_type": "markdown",
   "metadata": {},
   "source": [
    "The first number is the test statistic and the second number is the one we want. It represents the p-value for the hypothesis test. If you want to run the test at a 1% level of significance, you want this number to be greater than 0.01 to accept the hypothesis that the data is normally distributed, and if that number is less than 0.01 then you must reject the hypothesis of normality.\n",
    "\n",
    "In this case, since we got a number higher than 0.01 we can accept the hypothesis that the numbers are random. Now, let's try this on our different hedge fund indices."
   ]
  },
  {
   "cell_type": "code",
   "execution_count": 18,
   "metadata": {},
   "outputs": [
    {
     "data": {
      "text/plain": [
       "(25656.585999171326, 0.0)"
      ]
     },
     "execution_count": 18,
     "metadata": {},
     "output_type": "execute_result"
    }
   ],
   "source": [
    "scipy.stats.jarque_bera(hfi)"
   ]
  },
  {
   "cell_type": "markdown",
   "metadata": {},
   "source": [
    "Why didn't we get the results for the individual indices? Because the implementation of the test isn't smart enough to realize that we want to treat each column as a separate set of returns. We can write out own wrapper for it to fix that, so let's start by writing a simple wrapper, and adding this code to our python file:\n",
    "\n",
    "```python\n",
    "import scipy.stats\n",
    "def is_normal(r, level=0.01):\n",
    "    \"\"\"\n",
    "    Applies the Jarque-Bera test to determine if a Series is normal or not\n",
    "    Test is applied at the 1% level by default\n",
    "    Returns True if the hypothesis of normality is accepted, False otherwise\n",
    "    \"\"\"\n",
    "    statistic, p_value = scipy.stats.jarque_bera(r)\n",
    "    return p_value > level\n",
    "```"
   ]
  },
  {
   "cell_type": "code",
   "execution_count": 19,
   "metadata": {},
   "outputs": [],
   "source": [
    "import scipy.stats\n",
    "def is_normal(r, level=0.01):\n",
    "    \"\"\"\n",
    "    Applies the Jarque-Bera test to determine if a Series is normal or not\n",
    "    Test is applied at the 1% level by default\n",
    "    Returns True if the hypothesis of normality is accepted, False otherwise\n",
    "    \"\"\"\n",
    "    statistic, p_value = scipy.stats.jarque_bera(r)\n",
    "    return p_value > level"
   ]
  },
  {
   "cell_type": "code",
   "execution_count": 20,
   "metadata": {},
   "outputs": [
    {
     "data": {
      "text/plain": [
       "True"
      ]
     },
     "execution_count": 20,
     "metadata": {},
     "output_type": "execute_result"
    }
   ],
   "source": [
    "erk.is_normal(normal_rets)"
   ]
  },
  {
   "cell_type": "markdown",
   "metadata": {},
   "source": [
    "There are a few different ways to handle the problem. The first is to use the `.aggregate` method on a dataframe, that takes a function as an argument and applies that function to each column:"
   ]
  },
  {
   "cell_type": "code",
   "execution_count": 21,
   "metadata": {},
   "outputs": [
    {
     "data": {
      "text/plain": [
       "Convertible Arbitrage     False\n",
       "CTA Global                 True\n",
       "Distressed Securities     False\n",
       "Emerging Markets          False\n",
       "Equity Market Neutral     False\n",
       "Event Driven              False\n",
       "Fixed Income Arbitrage    False\n",
       "Global Macro              False\n",
       "Long/Short Equity         False\n",
       "Merger Arbitrage          False\n",
       "Relative Value            False\n",
       "Short Selling             False\n",
       "Funds Of Funds            False\n",
       "dtype: bool"
      ]
     },
     "execution_count": 21,
     "metadata": {},
     "output_type": "execute_result"
    }
   ],
   "source": [
    "hfi.aggregate(erk.is_normal)"
   ]
  },
  {
   "cell_type": "markdown",
   "metadata": {},
   "source": [
    "However, we can fix this in our wrapper so that we have a uniform interface to test normality:\n",
    "\n",
    "```python\n",
    "import scipy.stats\n",
    "def is_normal(r, level=0.01):\n",
    "    \"\"\"\n",
    "    Applies the Jarque-Bera test to determine if a Series is normal or not\n",
    "    Test is applied at the 1% level by default\n",
    "    Returns True if the hypothesis of normality is accepted, False otherwise\n",
    "    \"\"\"\n",
    "    if isinstance(r, pd.DataFrame):\n",
    "        return r.aggregate(is_normal)\n",
    "    else:\n",
    "        statistic, p_value = scipy.stats.jarque_bera(r)\n",
    "        return p_value > level\n",
    "```\n"
   ]
  },
  {
   "cell_type": "code",
   "execution_count": 22,
   "metadata": {},
   "outputs": [],
   "source": [
    "import scipy.stats\n",
    "def is_normal(r, level=0.01):\n",
    "    \"\"\"\n",
    "    Applies the Jarque-Bera test to determine if a Series is normal or not\n",
    "    Test is applied at the 1% level by default\n",
    "    Returns True if the hypothesis of normality is accepted, False otherwise\n",
    "    \"\"\"\n",
    "    if isinstance(r, pd.DataFrame):\n",
    "        return r.aggregate(is_normal)\n",
    "    else:\n",
    "        statistic, p_value = scipy.stats.jarque_bera(r)\n",
    "        return p_value > level"
   ]
  },
  {
   "cell_type": "code",
   "execution_count": 23,
   "metadata": {},
   "outputs": [
    {
     "data": {
      "text/plain": [
       "True"
      ]
     },
     "execution_count": 23,
     "metadata": {},
     "output_type": "execute_result"
    }
   ],
   "source": [
    "import pandas as pd\n",
    "isinstance(hfi, pd.DataFrame)"
   ]
  },
  {
   "cell_type": "code",
   "execution_count": 24,
   "metadata": {},
   "outputs": [
    {
     "data": {
      "text/plain": [
       "True"
      ]
     },
     "execution_count": 24,
     "metadata": {},
     "output_type": "execute_result"
    }
   ],
   "source": [
    "erk.is_normal(normal_rets)"
   ]
  },
  {
   "cell_type": "markdown",
   "metadata": {},
   "source": [
    "## Testing CRSP SmallCap and LargeCap returns for Normality\n",
    "\n",
    "Let's see whether any of the returns we've been studying so far pass the normality hypothesis."
   ]
  },
  {
   "cell_type": "code",
   "execution_count": 25,
   "metadata": {},
   "outputs": [
    {
     "data": {
      "text/plain": [
       "SmallCap    4.410739\n",
       "LargeCap    0.233445\n",
       "dtype: float64"
      ]
     },
     "execution_count": 25,
     "metadata": {},
     "output_type": "execute_result"
    }
   ],
   "source": [
    "ffme = erk.get_ffme_returns()\n",
    "erk.skewness(ffme)"
   ]
  },
  {
   "cell_type": "code",
   "execution_count": 26,
   "metadata": {},
   "outputs": [
    {
     "data": {
      "text/plain": [
       "SmallCap    46.845008\n",
       "LargeCap    10.694654\n",
       "dtype: float64"
      ]
     },
     "execution_count": 26,
     "metadata": {},
     "output_type": "execute_result"
    }
   ],
   "source": [
    "erk.kurtosis(ffme)"
   ]
  },
  {
   "cell_type": "code",
   "execution_count": 27,
   "metadata": {},
   "outputs": [
    {
     "data": {
      "text/plain": [
       "SmallCap    False\n",
       "LargeCap    False\n",
       "dtype: bool"
      ]
     },
     "execution_count": 27,
     "metadata": {},
     "output_type": "execute_result"
    }
   ],
   "source": [
    "erk.is_normal(ffme)"
   ]
  },
  {
   "cell_type": "code",
   "execution_count": null,
   "metadata": {},
   "outputs": [],
   "source": []
  }
 ],
 "metadata": {
  "kernelspec": {
   "display_name": "Python 3",
   "language": "python",
   "name": "python3"
  },
  "language_info": {
   "codemirror_mode": {
    "name": "ipython",
    "version": 3
   },
   "file_extension": ".py",
   "mimetype": "text/x-python",
   "name": "python",
   "nbconvert_exporter": "python",
   "pygments_lexer": "ipython3",
   "version": "3.7.6"
  }
 },
 "nbformat": 4,
 "nbformat_minor": 2
}
